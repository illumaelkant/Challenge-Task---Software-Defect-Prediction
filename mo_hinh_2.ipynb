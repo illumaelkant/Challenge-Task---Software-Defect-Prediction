{
 "cells": [
  {
   "cell_type": "code",
   "execution_count": null,
   "id": "c5f3c062",
   "metadata": {},
   "outputs": [
    {
     "name": "stdout",
     "output_type": "stream",
     "text": [
      "Số lượng mỗi lớp trước SMOTE: Counter({0: 138, 1: 40})\n",
      "Số lượng mỗi lớp sau SMOTE-Tomek: Counter({0: 136, 1: 136})\n",
      "\n",
      "==== Kết quả đánh giá ====\n",
      "F1 Score     : 0.2447\n",
      "ROC AUC      : 0.7105\n",
      "Accuracy     : 0.3891\n",
      "G-Mean       : 0.5433\n"
     ]
    }
   ],
   "source": [
    "import pandas as pd\n",
    "import numpy as np\n",
    "from sklearn.model_selection import train_test_split\n",
    "from sklearn.decomposition import PCA\n",
    "from sklearn.metrics import f1_score, roc_auc_score, accuracy_score, confusion_matrix\n",
    "from imblearn.combine import SMOTETomek\n",
    "from imblearn.over_sampling import SMOTE\n",
    "from catboost import CatBoostClassifier\n",
    "from collections import Counter\n",
    "\n",
    "# === Đọc dữ liệu PROMISE từ file CSV ===\n",
    "df = pd.read_csv(\"data/ant-1.4.csv\")\n",
    "\n",
    "# === Chia features và labels ===\n",
    "X = df.drop(columns=[\"name\", \"bug\"])\n",
    "y = df[\"bug\"]\n",
    "y = y.apply(lambda x: 1 if x > 0 else 0)\n",
    "print(f\"Số lượng mỗi lớp trước SMOTE: {Counter(y)}\")\n",
    "\n",
    "# === Giảm chiều dữ liệu mô phỏng contrastive learning (dùng PCA) ===\n",
    "pca = PCA(n_components=10)\n",
    "X_pca = pca.fit_transform(X)\n",
    "\n",
    "# === Áp dụng SMOTE-Tomek (fix lỗi thiếu mẫu bằng k_neighbors=1) ===\n",
    "smote_tomek = SMOTETomek(smote=SMOTE(k_neighbors=1), random_state=42)\n",
    "X_resampled, y_resampled = smote_tomek.fit_resample(X_pca, y)\n",
    "\n",
    "print(f\"Số lượng mỗi lớp sau SMOTE-Tomek: {Counter(y_resampled)}\")\n",
    "\n",
    "# === Chia tập train/test ===\n",
    "X_train, X_test, y_train, y_test = train_test_split(\n",
    "    X_resampled, y_resampled, test_size=0.2, stratify=y_resampled, random_state=42\n",
    ")\n",
    "\n",
    "# === Huấn luyện mô hình CatBoost ===\n",
    "model = CatBoostClassifier(iterations=1000, depth=4, learning_rate=0.1, verbose=0)\n",
    "model.fit(X_train, y_train)\n",
    "\n",
    "#=== Thay doi tap test ===\n",
    "X_test = pd.read_csv(\"data/ant-1.5.csv\")\n",
    "y_test = X_test['bug']\n",
    "\n",
    "X_test = X_test.drop(columns=['name', 'bug'], axis=1)\n",
    "y_test = y_test.apply(lambda x: 1 if x > 0 else 0)\n",
    "\n",
    "\n",
    "\n",
    "# === Dự đoán ===\n",
    "y_pred = model.predict(X_test)\n",
    "y_pred_proba = model.predict_proba(X_test)[:, 1]\n",
    "\n",
    "# === Đánh giá mô hình ===\n",
    "f1 = f1_score(y_test, y_pred)\n",
    "roc = roc_auc_score(y_test, y_pred_proba)\n",
    "acc = accuracy_score(y_test, y_pred)\n",
    "\n",
    "# === Tính G-Mean ===\n",
    "cm = confusion_matrix(y_test, y_pred)\n",
    "tn, fp, fn, tp = cm.ravel()\n",
    "sensitivity = tp / (tp + fn) if (tp + fn) else 0\n",
    "specificity = tn / (tn + fp) if (tn + fp) else 0\n",
    "gmean = np.sqrt(sensitivity * specificity)\n",
    "\n",
    "# === In kết quả ===\n",
    "print(f\"\\n==== Kết quả đánh giá ====\")\n",
    "print(f\"F1 Score     : {f1:.4f}\")\n",
    "print(f\"ROC AUC      : {roc:.4f}\")\n",
    "print(f\"Accuracy     : {acc:.4f}\")\n",
    "print(f\"G-Mean       : {gmean:.4f}\")\n"
   ]
  },
  {
   "cell_type": "code",
   "execution_count": 14,
   "id": "4a6ce03e",
   "metadata": {},
   "outputs": [
    {
     "name": "stdout",
     "output_type": "stream",
     "text": [
      "F1 Score: 0.2447\n",
      "ROC AUC: 0.7105\n",
      "Accuracy: 0.3891\n",
      "G-Mean: 0.5433\n"
     ]
    }
   ],
   "source": [
    "# F1 Score\n",
    "f1 = f1_score(y_test, y_pred)\n",
    "\n",
    "# ROC AUC\n",
    "roc = roc_auc_score(y_test, y_pred_proba)\n",
    "\n",
    "# Accuracy\n",
    "acc = accuracy_score(y_test, y_pred)\n",
    "\n",
    "# G-Mean\n",
    "cm = confusion_matrix(y_test, y_pred)\n",
    "tn, fp, fn, tp = cm.ravel()\n",
    "sensitivity = tp / (tp + fn)\n",
    "specificity = tn / (tn + fp)\n",
    "gmean = (sensitivity * specificity) ** 0.5\n",
    "\n",
    "# Kết quả\n",
    "print(f\"F1 Score: {f1:.4f}\")\n",
    "print(f\"ROC AUC: {roc:.4f}\")\n",
    "print(f\"Accuracy: {acc:.4f}\")\n",
    "print(f\"G-Mean: {gmean:.4f}\")\n"
   ]
  }
 ],
 "metadata": {
  "kernelspec": {
   "display_name": "base",
   "language": "python",
   "name": "python3"
  },
  "language_info": {
   "codemirror_mode": {
    "name": "ipython",
    "version": 3
   },
   "file_extension": ".py",
   "mimetype": "text/x-python",
   "name": "python",
   "nbconvert_exporter": "python",
   "pygments_lexer": "ipython3",
   "version": "3.12.7"
  }
 },
 "nbformat": 4,
 "nbformat_minor": 5
}
