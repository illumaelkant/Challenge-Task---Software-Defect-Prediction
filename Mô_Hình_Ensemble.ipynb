{
 "cells": [
  {
   "cell_type": "markdown",
   "id": "cb0688b7",
   "metadata": {},
   "source": [
    "# Xay dung mo hinh ensemble learning cho bai toan SDP\n"
   ]
  },
  {
   "cell_type": "markdown",
   "id": "8c1711d6",
   "metadata": {},
   "source": [
    "Du lieu dau vao bao gom cac tap PROMISE, NASA, Eclispe, voi 2 bo du lieu dau tien, phuong phap chia train-test nhu sau:\n",
    "Train tren version $n$ va test tren version $n + 1$\n",
    "Voi NASA: Dung cross-valdiation"
   ]
  },
  {
   "cell_type": "markdown",
   "id": "494279ae",
   "metadata": {},
   "source": [
    "<span style=\"color:red\">Quan trọng: Đã thử hầu hết các mô hình ensemble và nhận thấy CatBoost có performance tốt nhất\n",
    "Các phương pháp xử lý dữ liệu kèm theo Feature Selection, Smote, KHÔNG Sử dụng PCA vì nó không hiệu quả  </span>"
   ]
  },
  {
   "cell_type": "markdown",
   "id": "912a1508",
   "metadata": {},
   "source": [
    "1. Import libraries"
   ]
  },
  {
   "cell_type": "code",
   "execution_count": 20,
   "id": "448ce58c",
   "metadata": {},
   "outputs": [
    {
     "name": "stdout",
     "output_type": "stream",
     "text": [
      "Requirement already satisfied: catboost in /home/thien/anaconda3/lib/python3.12/site-packages (1.2.8)\n",
      "Requirement already satisfied: graphviz in /home/thien/anaconda3/lib/python3.12/site-packages (from catboost) (0.21)\n",
      "Requirement already satisfied: matplotlib in /home/thien/anaconda3/lib/python3.12/site-packages (from catboost) (3.9.2)\n",
      "Requirement already satisfied: numpy<3.0,>=1.16.0 in /home/thien/anaconda3/lib/python3.12/site-packages (from catboost) (1.26.4)\n",
      "Requirement already satisfied: pandas>=0.24 in /home/thien/anaconda3/lib/python3.12/site-packages (from catboost) (2.2.2)\n",
      "Requirement already satisfied: scipy in /home/thien/anaconda3/lib/python3.12/site-packages (from catboost) (1.13.1)\n",
      "Requirement already satisfied: plotly in /home/thien/anaconda3/lib/python3.12/site-packages (from catboost) (5.24.1)\n",
      "Requirement already satisfied: six in /home/thien/anaconda3/lib/python3.12/site-packages (from catboost) (1.16.0)\n",
      "Requirement already satisfied: python-dateutil>=2.8.2 in /home/thien/anaconda3/lib/python3.12/site-packages (from pandas>=0.24->catboost) (2.9.0.post0)\n",
      "Requirement already satisfied: pytz>=2020.1 in /home/thien/anaconda3/lib/python3.12/site-packages (from pandas>=0.24->catboost) (2024.1)\n",
      "Requirement already satisfied: tzdata>=2022.7 in /home/thien/anaconda3/lib/python3.12/site-packages (from pandas>=0.24->catboost) (2023.3)\n",
      "Requirement already satisfied: contourpy>=1.0.1 in /home/thien/anaconda3/lib/python3.12/site-packages (from matplotlib->catboost) (1.2.0)\n",
      "Requirement already satisfied: cycler>=0.10 in /home/thien/anaconda3/lib/python3.12/site-packages (from matplotlib->catboost) (0.11.0)\n",
      "Requirement already satisfied: fonttools>=4.22.0 in /home/thien/anaconda3/lib/python3.12/site-packages (from matplotlib->catboost) (4.51.0)\n",
      "Requirement already satisfied: kiwisolver>=1.3.1 in /home/thien/anaconda3/lib/python3.12/site-packages (from matplotlib->catboost) (1.4.4)\n",
      "Requirement already satisfied: packaging>=20.0 in /home/thien/anaconda3/lib/python3.12/site-packages (from matplotlib->catboost) (24.1)\n",
      "Requirement already satisfied: pillow>=8 in /home/thien/anaconda3/lib/python3.12/site-packages (from matplotlib->catboost) (10.4.0)\n",
      "Requirement already satisfied: pyparsing>=2.3.1 in /home/thien/anaconda3/lib/python3.12/site-packages (from matplotlib->catboost) (3.1.2)\n",
      "Requirement already satisfied: tenacity>=6.2.0 in /home/thien/anaconda3/lib/python3.12/site-packages (from plotly->catboost) (8.2.3)\n"
     ]
    }
   ],
   "source": [
    "!pip install catboost"
   ]
  },
  {
   "cell_type": "code",
   "execution_count": 21,
   "id": "210448b6",
   "metadata": {},
   "outputs": [],
   "source": [
    "import pandas as pd\n",
    "import numpy as np\n",
    "\n",
    "from sklearn.model_selection import train_test_split, GridSearchCV, StratifiedKFold\n",
    "from sklearn.preprocessing import StandardScaler, LabelEncoder\n",
    "\n",
    "from sklearn.feature_selection import SelectKBest, chi2, mutual_info_classif, f_classif\n",
    "from sklearn.ensemble import RandomForestClassifier, GradientBoostingClassifier, AdaBoostClassifier, VotingClassifier\n",
    "from sklearn.svm import SVC\n",
    "from sklearn.linear_model import LogisticRegression\n",
    "from sklearn.metrics import accuracy_score, f1_score, roc_auc_score, confusion_matrix, classification_report\n",
    "from sklearn.utils.class_weight import compute_class_weight\n",
    "from imblearn.over_sampling import SMOTE\n",
    "from imblearn.under_sampling import RandomUnderSampler\n",
    "from imblearn.pipeline import Pipeline as ImbPipeline\n",
    "from sklearn.impute import SimpleImputer\n",
    "import xgboost as xgb\n",
    "\n",
    "from catboost import CatBoostClassifier\n"
   ]
  },
  {
   "cell_type": "markdown",
   "id": "524731f5",
   "metadata": {},
   "source": [
    "2. Khoi tao bo cong cu de danh gia mo hinh theo F1 Score, Roc Auc, Gmean, Accuracy"
   ]
  },
  {
   "cell_type": "code",
   "execution_count": 22,
   "id": "52263619",
   "metadata": {},
   "outputs": [],
   "source": [
    "from sklearn.metrics import (\n",
    "    accuracy_score,\n",
    "    f1_score,\n",
    "    roc_auc_score,\n",
    "    classification_report,\n",
    "    confusion_matrix\n",
    ")\n",
    "from imblearn.metrics import geometric_mean_score"
   ]
  },
  {
   "cell_type": "markdown",
   "id": "1e8000da",
   "metadata": {},
   "source": [
    "2. Preprocessing data"
   ]
  },
  {
   "cell_type": "markdown",
   "id": "8403bc8c",
   "metadata": {},
   "source": [
    "Chia thu cong du lieu trong ```data/``` theo tung phien ban "
   ]
  },
  {
   "cell_type": "code",
   "execution_count": 23,
   "id": "e489203b",
   "metadata": {},
   "outputs": [],
   "source": [
    "df_train_raw = pd.read_csv('data/camel-1.2.csv')\n",
    "df_test_raw = pd.read_csv('data/camel-1.4.csv')\n",
    "\n",
    "df_train_raw['bug'] = df_train_raw['bug'].apply(lambda x: 1 if x > 0 else 0)\n",
    "df_test_raw['bug'] = df_test_raw['bug'].apply(lambda x: 1 if x > 0 else 0)"
   ]
  },
  {
   "cell_type": "code",
   "execution_count": 24,
   "id": "8b1e2b72",
   "metadata": {},
   "outputs": [
    {
     "name": "stdout",
     "output_type": "stream",
     "text": [
      "<class 'pandas.core.frame.DataFrame'>\n",
      "RangeIndex: 608 entries, 0 to 607\n",
      "Data columns (total 22 columns):\n",
      " #   Column  Non-Null Count  Dtype  \n",
      "---  ------  --------------  -----  \n",
      " 0   name    608 non-null    object \n",
      " 1   wmc     608 non-null    int64  \n",
      " 2   dit     608 non-null    int64  \n",
      " 3   noc     608 non-null    int64  \n",
      " 4   cbo     608 non-null    int64  \n",
      " 5   rfc     608 non-null    int64  \n",
      " 6   lcom    608 non-null    int64  \n",
      " 7   ca      608 non-null    int64  \n",
      " 8   ce      608 non-null    int64  \n",
      " 9   npm     608 non-null    int64  \n",
      " 10  lcom3   608 non-null    float64\n",
      " 11  loc     608 non-null    int64  \n",
      " 12  dam     608 non-null    float64\n",
      " 13  moa     608 non-null    int64  \n",
      " 14  mfa     608 non-null    float64\n",
      " 15  cam     608 non-null    float64\n",
      " 16  ic      608 non-null    int64  \n",
      " 17  cbm     608 non-null    int64  \n",
      " 18  amc     608 non-null    float64\n",
      " 19  max_cc  608 non-null    int64  \n",
      " 20  avg_cc  608 non-null    float64\n",
      " 21  bug     608 non-null    int64  \n",
      "dtypes: float64(6), int64(15), object(1)\n",
      "memory usage: 104.6+ KB\n",
      "None\n",
      "\n",
      "Phân bố lớp 'bug' trong tập train:\n",
      "bug\n",
      "0    0.644737\n",
      "1    0.355263\n",
      "Name: proportion, dtype: float64\n",
      "<class 'pandas.core.frame.DataFrame'>\n",
      "RangeIndex: 872 entries, 0 to 871\n",
      "Data columns (total 22 columns):\n",
      " #   Column  Non-Null Count  Dtype  \n",
      "---  ------  --------------  -----  \n",
      " 0   name    872 non-null    object \n",
      " 1   wmc     872 non-null    int64  \n",
      " 2   dit     872 non-null    int64  \n",
      " 3   noc     872 non-null    int64  \n",
      " 4   cbo     872 non-null    int64  \n",
      " 5   rfc     872 non-null    int64  \n",
      " 6   lcom    872 non-null    int64  \n",
      " 7   ca      872 non-null    int64  \n",
      " 8   ce      872 non-null    int64  \n",
      " 9   npm     872 non-null    int64  \n",
      " 10  lcom3   872 non-null    float64\n",
      " 11  loc     872 non-null    int64  \n",
      " 12  dam     872 non-null    float64\n",
      " 13  moa     872 non-null    int64  \n",
      " 14  mfa     872 non-null    float64\n",
      " 15  cam     872 non-null    float64\n",
      " 16  ic      872 non-null    int64  \n",
      " 17  cbm     872 non-null    int64  \n",
      " 18  amc     872 non-null    float64\n",
      " 19  max_cc  872 non-null    int64  \n",
      " 20  avg_cc  872 non-null    float64\n",
      " 21  bug     872 non-null    int64  \n",
      "dtypes: float64(6), int64(15), object(1)\n",
      "memory usage: 150.0+ KB\n",
      "None\n",
      "\n",
      "Phân bố lớp 'bug' trong tập test:\n",
      "bug\n",
      "0    0.833716\n",
      "1    0.166284\n",
      "Name: proportion, dtype: float64\n"
     ]
    }
   ],
   "source": [
    "\n",
    "## Thong tin tap train\n",
    "print(df_train_raw.info())\n",
    "print(\"\\nPhân bố lớp 'bug' trong tập train:\")\n",
    "print(df_train_raw['bug'].value_counts(normalize=True))\n",
    "original_train_bug_counts = df_train_raw['bug'].value_counts()\n",
    "\n",
    "## Thong tin tap test\n",
    "print(df_test_raw.info())\n",
    "print(\"\\nPhân bố lớp 'bug' trong tập test:\")\n",
    "print(df_test_raw['bug'].value_counts(normalize=True))"
   ]
  },
  {
   "cell_type": "markdown",
   "id": "aab02de1",
   "metadata": {},
   "source": [
    "<span style=\"color:green\">Du lieu qua lech, neu khong xu ly mat can bang thi se khong co y nghia huan luyen mo hinh</span>"
   ]
  },
  {
   "cell_type": "markdown",
   "id": "b365709e",
   "metadata": {},
   "source": [
    "3. Chia Train/Test"
   ]
  },
  {
   "cell_type": "code",
   "execution_count": 25,
   "id": "2d3f63ad",
   "metadata": {},
   "outputs": [],
   "source": [
    "X_train = df_train_raw.drop(columns=['name', 'bug'])\n",
    "y_train = df_train_raw['bug']\n",
    "X_test = df_test_raw.drop(columns=['name', 'bug'])\n",
    "y_test = df_test_raw['bug']\n"
   ]
  },
  {
   "cell_type": "markdown",
   "id": "a2fe89a8",
   "metadata": {},
   "source": [
    "Dữ liệu rất lệch (~80/20)"
   ]
  },
  {
   "cell_type": "markdown",
   "id": "bec6219b",
   "metadata": {},
   "source": [
    "Lưu tên các cột features ban đầu"
   ]
  },
  {
   "cell_type": "code",
   "execution_count": 26,
   "id": "fe03a8c9",
   "metadata": {},
   "outputs": [],
   "source": [
    "feature_names = X_train.columns.tolist()"
   ]
  },
  {
   "cell_type": "markdown",
   "id": "a7c2e463",
   "metadata": {},
   "source": [
    "<span style=\"color:red\"> PIPELINE CHO TOAN BO QUY TRINH GOM CAC BUOC SAU</spam>\n",
    "1. Tiền xử lý và Trích chọn Đặc trưng (trong Pipeline)\n",
    "2. Imputer, Scaler, Feature Selector sẽ được định nghĩa trong pipeline\n",
    "3. Giải quyết Mất cân bằng Dữ liệu (SMOTE trong Pipeline)\n",
    "4. Dự đoán và đánh giá với Catboost"
   ]
  },
  {
   "cell_type": "code",
   "execution_count": 27,
   "id": "8d067445",
   "metadata": {},
   "outputs": [],
   "source": [
    "minority_class_count_train = original_train_bug_counts.min()\n",
    "smote_k_neighbors = 5 if minority_class_count_train > 5 else max(1, minority_class_count_train - 1)\n",
    "k_features = 5"
   ]
  },
  {
   "cell_type": "code",
   "execution_count": 28,
   "id": "34c39f21",
   "metadata": {},
   "outputs": [],
   "source": [
    "pipeline_cb = ImbPipeline([\n",
    "    ('imputer', SimpleImputer(strategy='median')), #Fill NaN\n",
    "    ('scaler', StandardScaler()),\n",
    "    ('selector', SelectKBest(score_func=f_classif, k=k_features)),\n",
    "    ('smote', SMOTE(random_state=42, k_neighbors=smote_k_neighbors)), #Xu ly du lieu mat can bang\n",
    "    ('classifier', CatBoostClassifier(iterations=1000, depth=4, learning_rate=0.1, verbose=0))\n",
    "])"
   ]
  },
  {
   "cell_type": "code",
   "execution_count": 29,
   "id": "27116b57",
   "metadata": {},
   "outputs": [
    {
     "name": "stdout",
     "output_type": "stream",
     "text": [
      "\n",
      "--- Kết quả với CatBoostClassifier ---\n",
      "Accuracy       : 0.6743\n",
      "F1-score (weighted): 0.7121\n",
      "ROC AUC        : 0.6681\n",
      "G-Mean         : 0.6306\n"
     ]
    }
   ],
   "source": [
    "\n",
    "pipeline_cb.fit(X_train, y_train)\n",
    "\n",
    "y_pred_cb = pipeline_cb.predict(X_test)\n",
    "y_proba_cb = pipeline_cb.predict_proba(X_test)[:, 1]\n",
    "\n",
    "print(\"\\n--- Kết quả với CatBoostClassifier ---\")\n",
    "print(f\"Accuracy       : {accuracy_score(y_test, y_pred_cb):.4f}\")\n",
    "print(f\"F1-score (weighted): {f1_score(y_test, y_pred_cb, average='weighted'):.4f}\")\n",
    "print(f\"ROC AUC        : {roc_auc_score(y_test, y_proba_cb):.4f}\")\n",
    "print(f\"G-Mean         : {geometric_mean_score(y_test, y_pred_cb, pos_label=1):.4f}\")\n",
    "\n",
    "# # Cac thong so khac, neu can\n",
    "# print(\"\\nClassification Report:\")\n",
    "# print(classification_report(y_test, y_pred_cb, target_names=['bug=0', 'bug=1']))\n",
    "# print(\"Confusion Matrix:\")\n",
    "# print(confusion_matrix(y_test, y_pred_cb))"
   ]
  },
  {
   "cell_type": "markdown",
   "id": "64336ce9",
   "metadata": {},
   "source": [
    "<span style=\"color:green\">Mặc dù F1 Score tương đối tốt nhưng ROC AUC cho thấy mô hình vẫn sẽ bị sai lệch tương đối nhẹ với class ```bug = 1```</span>"
   ]
  },
  {
   "cell_type": "markdown",
   "id": "623a4d65",
   "metadata": {},
   "source": []
  },
  {
   "cell_type": "markdown",
   "id": "0c4ecc56",
   "metadata": {},
   "source": []
  }
 ],
 "metadata": {
  "kernelspec": {
   "display_name": "base",
   "language": "python",
   "name": "python3"
  },
  "language_info": {
   "codemirror_mode": {
    "name": "ipython",
    "version": 3
   },
   "file_extension": ".py",
   "mimetype": "text/x-python",
   "name": "python",
   "nbconvert_exporter": "python",
   "pygments_lexer": "ipython3",
   "version": "3.12.7"
  }
 },
 "nbformat": 4,
 "nbformat_minor": 5
}
